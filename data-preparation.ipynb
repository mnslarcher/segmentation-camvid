{
 "cells": [
  {
   "cell_type": "code",
   "execution_count": null,
   "id": "small-boxing",
   "metadata": {},
   "outputs": [],
   "source": [
    "import os\n",
    "\n",
    "from prepare_data import prepare_data\n",
    "\n",
    "\n",
    "%load_ext autoreload\n",
    "%autoreload 2"
   ]
  },
  {
   "cell_type": "code",
   "execution_count": null,
   "id": "behavioral-savings",
   "metadata": {},
   "outputs": [],
   "source": [
    "DATA_DIR = \"./data/CamVid/\"\n",
    "OUTPUT_DIR = \"./data/CamVid/preproc/\"\n",
    "IMAGE_SIZE = 1024\n",
    "NUM_WORKERS = 16\n",
    "CATEGORIES = [\n",
    "    \"sky\", \n",
    "    \"building\", \n",
    "    \"pole\", \n",
    "    \"road\", \n",
    "    \"pavement\", \n",
    "    \"tree\", \n",
    "    \"signsymbol\", \n",
    "    \"fence\", \n",
    "    \"car\", \n",
    "    \"pedestrian\", \n",
    "    \"bicyclist\", \n",
    "    \"unlabelled\"\n",
    "]\n",
    "CATEGORY_IDS = range(len(CATEGORIES))\n",
    "\n",
    "# load repo with data if it is not exists\n",
    "if not os.path.exists(DATA_DIR):\n",
    "    print(\"Loading data...\")\n",
    "    os.system(\"git clone https://github.com/alexgkendall/SegNet-Tutorial ./data\")\n",
    "    print(\"Done!\")"
   ]
  },
  {
   "cell_type": "code",
   "execution_count": null,
   "id": "front-essence",
   "metadata": {},
   "outputs": [],
   "source": [
    "images_train_dir = os.path.join(DATA_DIR, \"train\")\n",
    "masks_train_dir = os.path.join(DATA_DIR, \"trainannot\")\n",
    "\n",
    "images_val_dir = os.path.join(DATA_DIR, \"val\")\n",
    "masks_val_dir = os.path.join(DATA_DIR, \"valannot\")\n",
    "\n",
    "images_test_dir = os.path.join(DATA_DIR, \"test\")\n",
    "masks_test_dir = os.path.join(DATA_DIR, \"testannot\")"
   ]
  },
  {
   "cell_type": "code",
   "execution_count": null,
   "id": "potential-mount",
   "metadata": {},
   "outputs": [],
   "source": [
    "if not os.path.exists(OUTPUT_DIR):\n",
    "    prepare_data(\n",
    "        images_train_dir,\n",
    "        masks_train_dir,\n",
    "        os.path.join(OUTPUT_DIR, \"train\", \"images\"),\n",
    "        os.path.join(OUTPUT_DIR, \"train\", \"masks\"),\n",
    "        category_ids=CATEGORY_IDS,\n",
    "        image_size=IMAGE_SIZE,\n",
    "        num_workers=NUM_WORKERS,\n",
    "    )\n",
    "    prepare_data(\n",
    "        images_val_dir,\n",
    "        masks_val_dir,\n",
    "        os.path.join(OUTPUT_DIR, \"val\", \"images\"),\n",
    "        os.path.join(OUTPUT_DIR, \"val\", \"masks\"),\n",
    "        category_ids=CATEGORY_IDS,\n",
    "        image_size=IMAGE_SIZE,\n",
    "        num_workers=NUM_WORKERS,\n",
    "    )\n",
    "    prepare_data(\n",
    "        images_test_dir,\n",
    "        masks_test_dir,\n",
    "        os.path.join(OUTPUT_DIR, \"test\", \"images\"),\n",
    "        os.path.join(OUTPUT_DIR, \"test\", \"masks\"),\n",
    "        category_ids=CATEGORY_IDS,\n",
    "        image_size=IMAGE_SIZE,\n",
    "        num_workers=NUM_WORKERS,\n",
    "    )"
   ]
  }
 ],
 "metadata": {
  "kernelspec": {
   "display_name": "Python 3",
   "language": "python",
   "name": "python3"
  },
  "language_info": {
   "codemirror_mode": {
    "name": "ipython",
    "version": 3
   },
   "file_extension": ".py",
   "mimetype": "text/x-python",
   "name": "python",
   "nbconvert_exporter": "python",
   "pygments_lexer": "ipython3",
   "version": "3.6.13"
  }
 },
 "nbformat": 4,
 "nbformat_minor": 5
}
