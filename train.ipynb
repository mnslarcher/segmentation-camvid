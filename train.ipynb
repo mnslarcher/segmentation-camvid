{
 "cells": [
  {
   "cell_type": "code",
   "execution_count": null,
   "id": "recovered-textbook",
   "metadata": {},
   "outputs": [],
   "source": [
    "import os\n",
    "\n",
    "import albumentations as A\n",
    "import cv2\n",
    "import matplotlib.pyplot as plt\n",
    "# import numpy as np\n",
    "import torch\n",
    "from torch.utils.data import DataLoader\n",
    "from pytorch_toolbelt import losses\n",
    "# from prepare_data import prepare_data\n",
    "from segmentation.data import SegmentationDataModule\n",
    "from segmentation.utils import object_from_dict\n",
    "import pytorch_lightning as pl\n",
    "from train import SegmentationModule\n",
    "\n",
    "%load_ext autoreload\n",
    "%autoreload 2"
   ]
  },
  {
   "cell_type": "code",
   "execution_count": null,
   "id": "incomplete-percentage",
   "metadata": {},
   "outputs": [],
   "source": [
    "import yaml"
   ]
  },
  {
   "cell_type": "code",
   "execution_count": null,
   "id": "fitting-benefit",
   "metadata": {},
   "outputs": [],
   "source": [
    "from albumentations.core.serialization import from_dict"
   ]
  },
  {
   "cell_type": "code",
   "execution_count": null,
   "id": "practical-wages",
   "metadata": {},
   "outputs": [],
   "source": [
    "import glob"
   ]
  },
  {
   "cell_type": "code",
   "execution_count": null,
   "id": "early-flashing",
   "metadata": {},
   "outputs": [],
   "source": [
    "with open(sorted(glob.glob(\"configs/*\"), reverse=True)[0]) as f:\n",
    "    hparams = yaml.load(f, Loader=yaml.SafeLoader)\n",
    "    \n",
    "hparams[\"model\"][\"model\"][\"classes\"] = len(hparams[\"categories\"])"
   ]
  },
  {
   "cell_type": "code",
   "execution_count": null,
   "id": "exempt-citation",
   "metadata": {},
   "outputs": [],
   "source": [
    "def get_everything(hparams, overfit_batches=0.0):\n",
    "    pl.seed_everything(hparams[\"seed\"])\n",
    "    model = SegmentationModule(hparams[\"model\"])\n",
    "    transforms = {\n",
    "    \"train\": from_dict(hparams[\"data\"][\"transforms\"][\"train\"]),\n",
    "    \"val\": from_dict(hparams[\"data\"][\"transforms\"][\"val\"]),\n",
    "    \"test\": from_dict(hparams[\"data\"][\"transforms\"][\"test\"]),\n",
    "    }\n",
    "    data = SegmentationDataModule(\n",
    "        **hparams[\"data\"][\"data\"],\n",
    "        transforms=transforms,\n",
    "    )\n",
    "    trainer = object_from_dict(\n",
    "        hparams[\"trainer\"][\"trainer\"],\n",
    "        logger=object_from_dict(hparams[\"trainer\"][\"logger\"]),\n",
    "        callbacks=[\n",
    "            object_from_dict(callback)\n",
    "            for callback in hparams[\"trainer\"][\"callbacks\"].values()\n",
    "        ],\n",
    "        overfit_batches=overfit_batches,\n",
    "    )\n",
    "    return model, data, trainer"
   ]
  },
  {
   "cell_type": "code",
   "execution_count": null,
   "id": "three-politics",
   "metadata": {},
   "outputs": [],
   "source": [
    "rm -rf lightning_logs/"
   ]
  },
  {
   "cell_type": "code",
   "execution_count": null,
   "id": "abandoned-faith",
   "metadata": {
    "scrolled": false
   },
   "outputs": [],
   "source": [
    "model, data, trainer = get_everything(hparams, overfit_batches=2)\n",
    "trainer.fit(model, data)"
   ]
  },
  {
   "cell_type": "code",
   "execution_count": null,
   "id": "declared-immigration",
   "metadata": {
    "scrolled": false
   },
   "outputs": [],
   "source": [
    "model, data, trainer = get_everything(hparams)\n",
    "\n",
    "# Run learning rate finder\n",
    "lr_finder = trainer.tuner.lr_find(\n",
    "    model, \n",
    "    data, \n",
    "    min_lr=1e-3, max_lr=1e3, num_training=200, early_stop_threshold=None)\n",
    "\n",
    "# Results can be found in\n",
    "lr_finder.results\n",
    "\n",
    "# Plot with\n",
    "fig = lr_finder.plot(suggest=True)\n",
    "\n",
    "# Print suggestion\n",
    "lr_finder.suggestion()"
   ]
  },
  {
   "cell_type": "code",
   "execution_count": null,
   "id": "found-raising",
   "metadata": {},
   "outputs": [],
   "source": [
    "model, data, trainer = get_everything(hparams)\n",
    "trainer.fit(model, data)\n",
    "trainer.test()"
   ]
  },
  {
   "cell_type": "code",
   "execution_count": null,
   "id": "dirty-polish",
   "metadata": {},
   "outputs": [],
   "source": []
  }
 ],
 "metadata": {
  "kernelspec": {
   "display_name": "Python 3",
   "language": "python",
   "name": "python3"
  },
  "language_info": {
   "codemirror_mode": {
    "name": "ipython",
    "version": 3
   },
   "file_extension": ".py",
   "mimetype": "text/x-python",
   "name": "python",
   "nbconvert_exporter": "python",
   "pygments_lexer": "ipython3",
   "version": "3.6.13"
  }
 },
 "nbformat": 4,
 "nbformat_minor": 5
}
